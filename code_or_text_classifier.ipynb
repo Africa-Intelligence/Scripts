{
 "cells": [
  {
   "cell_type": "code",
   "execution_count": 1,
   "metadata": {
    "ExecuteTime": {
     "end_time": "2024-06-17T15:22:10.854755Z",
     "start_time": "2024-06-17T15:22:10.851074Z"
    }
   },
   "outputs": [
    {
     "data": {
      "text/plain": [
       "True"
      ]
     },
     "execution_count": 1,
     "metadata": {},
     "output_type": "execute_result"
    }
   ],
   "source": [
    "from dotenv import load_dotenv\n",
    "import os\n",
    "\n",
    "load_dotenv()"
   ]
  },
  {
   "cell_type": "markdown",
   "metadata": {},
   "source": [
    "## GPT 3.5 Judge"
   ]
  },
  {
   "cell_type": "code",
   "execution_count": 14,
   "metadata": {
    "ExecuteTime": {
     "end_time": "2024-06-17T15:22:26.872905Z",
     "start_time": "2024-06-17T15:22:23.852105Z"
    }
   },
   "outputs": [],
   "source": [
    "from openai import OpenAI\n",
    "\n",
    "openai_api_key= os.getenv('OPENAI_API_KEY')\n",
    "if openai_api_key is None:\n",
    "    raise ValueError(\"API Key is not set.\")\n",
    "\n",
    "client = OpenAI(\n",
    "    # This is the default and can be omitted\n",
    "    api_key=openai_api_key,\n",
    ")\n",
    "\n",
    "def get_completion(prompt, model=\"gpt-3.5-turbo\"):\n",
    "    chat_completion = client.chat.completions.create(\n",
    "    messages=[\n",
    "        {\n",
    "            \"role\": \"user\",\n",
    "            \"content\": prompt,\n",
    "        }\n",
    "    ],\n",
    "    model=\"gpt-3.5-turbo\",\n",
    "    )\n",
    "    return chat_completion.choices[0].message.content"
   ]
  },
  {
   "cell_type": "markdown",
   "metadata": {},
   "source": [
    "## LLama 3"
   ]
  },
  {
   "cell_type": "code",
   "execution_count": 26,
   "metadata": {},
   "outputs": [],
   "source": [
    "#https://github.com/ollama/ollama-python?tab=readme-ov-file\n",
    "import ollama\n",
    "\n",
    "def get_completion(prompt):\n",
    "  response = ollama.chat(model='llama3', messages=[\n",
    "    {\n",
    "      'role': 'user',\n",
    "      'content': prompt,\n",
    "    },\n",
    "  ])\n",
    "\n",
    "  return response['message']['content']"
   ]
  },
  {
   "cell_type": "code",
   "execution_count": 27,
   "metadata": {},
   "outputs": [],
   "source": [
    "def is_code_openai(row):\n",
    "    text = row.str.cat(sep='\\n')\n",
    "    prompt = f\"\"\"\n",
    "            I need you to analyze a question answer sequence of text and determine whether it contains code written \n",
    "            in any programming language. Please respond with \"Yes\" if the text contains code and \n",
    "            \"No\" if it does not. All langauages are valid, including markup languages.\n",
    "            Example 1:\n",
    "                Input: \n",
    "                    def hello_world():\n",
    "                        print(\"Hello, world!\")\n",
    "                Output:\n",
    "                    Yes\n",
    "            Example 2:\n",
    "                Input:\n",
    "                    The quick brown fox jumps over the lazy dog.\n",
    "                Output:\n",
    "                    No\n",
    "\n",
    "            It is important that you only answer with \"Yes\" or \"No\". No further explanation or justification\n",
    "            is needed. You should be robust enough to handle code snippets in any programming language.\n",
    "            Now, analyze the following text:\n",
    "                Input:\n",
    "                    {text}\n",
    "                Output:         \n",
    "            \"\"\"\n",
    "    answer = get_completion(prompt)\n",
    "    return answer"
   ]
  },
  {
   "cell_type": "markdown",
   "metadata": {},
   "source": [
    "## Main"
   ]
  },
  {
   "cell_type": "code",
   "execution_count": 28,
   "metadata": {},
   "outputs": [
    {
     "name": "stdout",
     "output_type": "stream",
     "text": [
      "No\n",
      "No\n",
      "No\n",
      "No\n",
      "No\n"
     ]
    }
   ],
   "source": [
    "from datasets import load_dataset\n",
    "import pandas as pd\n",
    "\n",
    "dataset_name = \"yahma/alpaca-cleaned\"\n",
    "dataset = load_dataset(dataset_name)\n",
    "df = pd.DataFrame(dataset['train'])\n",
    "new_order = ['instruction', 'input', 'output']\n",
    "df = df[new_order]\n",
    "column_names = df.columns\n",
    "     \n",
    "for i, row in df.iterrows():\n",
    "    print(is_code_openai(row))\n",
    "\n",
    "    "
   ]
  }
 ],
 "metadata": {
  "kernelspec": {
   "display_name": "translationservice-K9kv5r6f-py3.12",
   "language": "python",
   "name": "python3"
  },
  "language_info": {
   "codemirror_mode": {
    "name": "ipython",
    "version": 3
   },
   "file_extension": ".py",
   "mimetype": "text/x-python",
   "name": "python",
   "nbconvert_exporter": "python",
   "pygments_lexer": "ipython3",
   "version": "3.12.4"
  }
 },
 "nbformat": 4,
 "nbformat_minor": 2
}
